{
 "cells": [
  {
   "cell_type": "code",
   "execution_count": null,
   "metadata": {
    "collapsed": true
   },
   "outputs": [],
   "source": [
    "def error(f, x, y):\n",
    "    \"\"\"\n",
    "    Arguments:\n",
    "    ----------\n",
    "    f : function, the function that models the data.\n",
    "    x : array, input data for the model function.\n",
    "    y : array, real data to be compared with the model's prediction.\n",
    "    \n",
    "    Return:\n",
    "    -------\n",
    "    Approximation error.\n",
    "    \n",
    "    \"\"\"\n",
    "    error_l2 = numpy.sqrt(numpy.sum((f(x)-y)**2)/numpy.sum((y)**2))\n",
    "    \n",
    "    return error_l2"
   ]
  },
  {
   "cell_type": "code",
   "execution_count": null,
   "metadata": {
    "collapsed": true
   },
   "outputs": [],
   "source": [
    "error_l2_lin = error(f_linear, dummy, T_land[:,1])"
   ]
  },
  {
   "cell_type": "code",
   "execution_count": null,
   "metadata": {
    "collapsed": true
   },
   "outputs": [],
   "source": [
    "error_l2_lin"
   ]
  },
  {
   "cell_type": "code",
   "execution_count": null,
   "metadata": {
    "collapsed": true
   },
   "outputs": [],
   "source": [
    "error_l2_cut = error(f_cut, x_cut, T_cut)\n",
    "print(error_l2_cut)"
   ]
  },
  {
   "cell_type": "code",
   "execution_count": null,
   "metadata": {
    "collapsed": true
   },
   "outputs": [],
   "source": [
    "error_l2_cut_a = error(f_cut_a, x_cut_a, T_cut_a)\n",
    "print(error_l2_cut_a)"
   ]
  },
  {
   "cell_type": "code",
   "execution_count": null,
   "metadata": {
    "collapsed": true
   },
   "outputs": [],
   "source": [
    "error_proj = error(f_1970_2010, x_2011_2015, y_2011_2015)\n",
    "print (error_proj)"
   ]
  }
 ],
 "metadata": {
  "kernelspec": {
   "display_name": "Python 3",
   "language": "python",
   "name": "python3"
  },
  "language_info": {
   "codemirror_mode": {
    "name": "ipython",
    "version": 3
   },
   "file_extension": ".py",
   "mimetype": "text/x-python",
   "name": "python",
   "nbconvert_exporter": "python",
   "pygments_lexer": "ipython3",
   "version": "3.4.5"
  }
 },
 "nbformat": 4,
 "nbformat_minor": 0
}
